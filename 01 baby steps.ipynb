{
 "cells": [
  {
   "cell_type": "code",
   "execution_count": 1,
   "id": "c2f49afd-040e-4713-9452-548b168f8a16",
   "metadata": {},
   "outputs": [
    {
     "name": "stdout",
     "output_type": "stream",
     "text": [
      "welcome to Assignment 1\n"
     ]
    }
   ],
   "source": [
    "print(\"welcome to Assignment 1\")"
   ]
  },
  {
   "cell_type": "code",
   "execution_count": 7,
   "id": "9c159702-b2dd-4253-a7f4-2876d9942aaa",
   "metadata": {},
   "outputs": [
    {
     "name": "stdin",
     "output_type": "stream",
     "text": [
      "Num 1= 10\n",
      "Num 2= 30\n"
     ]
    },
    {
     "name": "stdout",
     "output_type": "stream",
     "text": [
      "Add=  40\n"
     ]
    }
   ],
   "source": [
    "num1=int(input(\"Num 1=\"))\n",
    "num2=int(input(\"Num 2=\"))\n",
    "Add=num1+num2\n",
    "print(\"Add= \",Add)\n"
   ]
  },
  {
   "cell_type": "code",
   "execution_count": 9,
   "id": "5230926f-8d40-409d-aae1-d5afd712ede0",
   "metadata": {},
   "outputs": [
    {
     "name": "stdin",
     "output_type": "stream",
     "text": [
      "Enter your BMI:  45\n"
     ]
    },
    {
     "name": "stdout",
     "output_type": "stream",
     "text": [
      "very obese\n"
     ]
    }
   ],
   "source": [
    "bmi=int(input(\"Enter your BMI: \"))\n",
    "if(bmi<18.5):\n",
    "    print(\"underweight\")\n",
    "elif(bmi<25):\n",
    "    print(\"normal\")\n",
    "elif(bmi<30):\n",
    "    print(\"overweight\")\n",
    "elif(bmi<35):\n",
    "    print(\"obese\")\n",
    "else:\n",
    "    print(\"very obese\")"
   ]
  },
  {
   "cell_type": "code",
   "execution_count": null,
   "id": "df98c886-f8bf-4bac-93c7-bf2c319344ca",
   "metadata": {},
   "outputs": [],
   "source": []
  }
 ],
 "metadata": {
  "kernelspec": {
   "display_name": "Python 3 (ipykernel)",
   "language": "python",
   "name": "python3"
  },
  "language_info": {
   "codemirror_mode": {
    "name": "ipython",
    "version": 3
   },
   "file_extension": ".py",
   "mimetype": "text/x-python",
   "name": "python",
   "nbconvert_exporter": "python",
   "pygments_lexer": "ipython3",
   "version": "3.12.4"
  }
 },
 "nbformat": 4,
 "nbformat_minor": 5
}

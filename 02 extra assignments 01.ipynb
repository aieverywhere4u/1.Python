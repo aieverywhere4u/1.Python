{
 "cells": [
  {
   "cell_type": "code",
   "execution_count": 1,
   "id": "5a616131-6d9a-4a8b-806d-7da7ae829a60",
   "metadata": {},
   "outputs": [
    {
     "name": "stdin",
     "output_type": "stream",
     "text": [
      "a= 2\n",
      "b= 3\n"
     ]
    },
    {
     "name": "stdout",
     "output_type": "stream",
     "text": [
      "Power= 8\n"
     ]
    }
   ],
   "source": [
    "a=int(input(\"a=\"))\n",
    "b=int(input(\"b=\"))\n",
    "print(\"Power=\",a**b)\n"
   ]
  },
  {
   "cell_type": "code",
   "execution_count": 2,
   "id": "0db4c2b7-6b43-4ade-bb2a-3881019447d3",
   "metadata": {},
   "outputs": [
    {
     "name": "stdin",
     "output_type": "stream",
     "text": [
      "a= 10\n",
      "b= 3\n"
     ]
    },
    {
     "name": "stdout",
     "output_type": "stream",
     "text": [
      "Modulo= 1\n"
     ]
    }
   ],
   "source": [
    "a=int(input(\"a=\"))\n",
    "b=int(input(\"b=\"))\n",
    "print(\"Modulo=\",a%b)\n"
   ]
  },
  {
   "cell_type": "code",
   "execution_count": null,
   "id": "4b59478c-0b65-4293-9f55-90cce3f76adf",
   "metadata": {},
   "outputs": [],
   "source": []
  }
 ],
 "metadata": {
  "kernelspec": {
   "display_name": "Python 3 (ipykernel)",
   "language": "python",
   "name": "python3"
  },
  "language_info": {
   "codemirror_mode": {
    "name": "ipython",
    "version": 3
   },
   "file_extension": ".py",
   "mimetype": "text/x-python",
   "name": "python",
   "nbconvert_exporter": "python",
   "pygments_lexer": "ipython3",
   "version": "3.12.4"
  }
 },
 "nbformat": 4,
 "nbformat_minor": 5
}

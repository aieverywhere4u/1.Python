{
 "cells": [
  {
   "cell_type": "code",
   "execution_count": 22,
   "id": "75ad603f-069f-44b9-b1e4-6d1bfca94d74",
   "metadata": {},
   "outputs": [],
   "source": [
    "def subfields():\n",
    "    print(\"sub fields in AI are: \")\n",
    "    print(\"machine learning\")\n",
    "    print(\"neural networks\")\n",
    "    print(\"vision\")\n",
    "    print(\"robotics\")\n",
    "    print(\"speech processing\")"
   ]
  },
  {
   "cell_type": "code",
   "execution_count": 71,
   "id": "7cc6829c-3bb1-4745-a6c6-016f45405b64",
   "metadata": {},
   "outputs": [
    {
     "name": "stdout",
     "output_type": "stream",
     "text": [
      "sub fields in AI are: \n",
      "machine learning\n",
      "neural networks\n",
      "vision\n",
      "robotics\n",
      "speech processing\n"
     ]
    }
   ],
   "source": [
    "#functioname() for calling function\n",
    "\n",
    "subfields()"
   ]
  },
  {
   "cell_type": "code",
   "execution_count": 37,
   "id": "1b8ce1e2-cba9-4b98-a581-deff61f8ca7b",
   "metadata": {},
   "outputs": [],
   "source": [
    "def oddeven():\n",
    "    a=int(input(\"enter the number\"))\n",
    "    if(a%2==0):\n",
    "        print(\"the number is even\")\n",
    "        message=(\"the number is even\")\n",
    "    else:\n",
    "        print(\"the number is odd\")\n",
    "        message=(\"the number is odd\")\n",
    "    return message"
   ]
  },
  {
   "cell_type": "code",
   "execution_count": 41,
   "id": "eb82966b-5789-4cae-94d3-4ccf62d5b92a",
   "metadata": {},
   "outputs": [
    {
     "name": "stdin",
     "output_type": "stream",
     "text": [
      "enter the number 55\n"
     ]
    },
    {
     "name": "stdout",
     "output_type": "stream",
     "text": [
      "the number is odd\n"
     ]
    },
    {
     "data": {
      "text/plain": [
       "'the number is odd'"
      ]
     },
     "execution_count": 41,
     "metadata": {},
     "output_type": "execute_result"
    }
   ],
   "source": [
    "oddeven()"
   ]
  },
  {
   "cell_type": "code",
   "execution_count": 46,
   "id": "d6f80426-39fb-4a47-a53c-42abbcfc93bb",
   "metadata": {},
   "outputs": [],
   "source": [
    "def eligible():\n",
    "    gender=input(\"enter the gender:\")\n",
    "    age=int(input(\"enter the age:\"))\n",
    "    if(gender==\"male\" and age>20):\n",
    "        print(\"you are eligible for marriage\")\n",
    "        message=\"you are eligible for marriage\"\n",
    "    elif(gender==\"female\" and age>17):\n",
    "        print(\"you are eligible for marriage\")\n",
    "        message=\"you are eligible for marriage\"\n",
    "    else:\n",
    "        print(\"you are ineligible for marriage\")\n",
    "        message=\"you are ineligible for marriage\"\n",
    "    return message"
   ]
  },
  {
   "cell_type": "code",
   "execution_count": 47,
   "id": "1c5fdb92-b9d6-483e-90ff-4ec3cd1f4430",
   "metadata": {},
   "outputs": [
    {
     "name": "stdin",
     "output_type": "stream",
     "text": [
      "enter the gender: male\n",
      "enter the age: 15\n"
     ]
    },
    {
     "name": "stdout",
     "output_type": "stream",
     "text": [
      "you are ineligible for marriage\n"
     ]
    },
    {
     "data": {
      "text/plain": [
       "'you are ineligible for marriage'"
      ]
     },
     "execution_count": 47,
     "metadata": {},
     "output_type": "execute_result"
    }
   ],
   "source": [
    "eligible()"
   ]
  },
  {
   "cell_type": "code",
   "execution_count": 63,
   "id": "64ed526c-7a5d-4821-bf22-802e290d0980",
   "metadata": {},
   "outputs": [],
   "source": [
    "def percentage():\n",
    "    a=int(input(\"sub 1:\"))\n",
    "    b=int(input(\"sub 2:\"))\n",
    "    c=int(input(\"sub 3:\"))\n",
    "    d=int(input(\"sub 4:\"))\n",
    "    e=int(input(\"sub 5:\"))\n",
    "    add=a+b+c+d+e\n",
    "    percent=(100*add)/500\n",
    "    print(\"total\",add)\n",
    "    message=add\n",
    "    print(\"percent\",percent,end=\"%\")\n",
    "    message01=percent\n",
    "    return message,message01\n",
    "    \n"
   ]
  },
  {
   "cell_type": "code",
   "execution_count": 66,
   "id": "dc51fd12-7993-4d5d-89b8-5c3d31b796e7",
   "metadata": {},
   "outputs": [
    {
     "name": "stdin",
     "output_type": "stream",
     "text": [
      "sub 1: 98\n",
      "sub 2: 94\n",
      "sub 3: 87\n",
      "sub 4: 76\n",
      "sub 5: 75\n"
     ]
    },
    {
     "name": "stdout",
     "output_type": "stream",
     "text": [
      "total 430\n",
      "percent 86.0%"
     ]
    },
    {
     "data": {
      "text/plain": [
       "(430, 86.0)"
      ]
     },
     "execution_count": 66,
     "metadata": {},
     "output_type": "execute_result"
    }
   ],
   "source": [
    "percentage()\n"
   ]
  },
  {
   "cell_type": "code",
   "execution_count": 67,
   "id": "3a610cea-4e2d-4114-baf0-c27c867db31c",
   "metadata": {},
   "outputs": [],
   "source": [
    "def triangle():\n",
    "    h=int(input(\"Height=\"))\n",
    "    b=int(input(\"Breadth=\"))\n",
    "    h1=int(input(\"Height 01=\"))\n",
    "    h2=int(input(\"Height 02=\"))\n",
    "    b1=int(input(\"Breadth 01=\"))\n",
    "    area=(h*b)/2\n",
    "    message=area\n",
    "    peri=h1+h2+b1\n",
    "    message01=peri\n",
    "    print(\"Area of the triangle: \",area)\n",
    "    print(\"Perimeter of the triangle: \",peri)\n",
    "    return message, message01\n"
   ]
  },
  {
   "cell_type": "code",
   "execution_count": 69,
   "id": "7733971c-f324-4439-a9d3-8da86063a0ef",
   "metadata": {},
   "outputs": [
    {
     "name": "stdin",
     "output_type": "stream",
     "text": [
      "Height= 2\n",
      "Breadth= 3\n",
      "Height 01= 4\n",
      "Height 02= 5\n",
      "Breadth 01= 6\n"
     ]
    },
    {
     "name": "stdout",
     "output_type": "stream",
     "text": [
      "Area of the triangle:  3.0\n",
      "Perimeter of the triangle:  15\n"
     ]
    }
   ],
   "source": [
    "s=triangle()\n"
   ]
  },
  {
   "cell_type": "code",
   "execution_count": 70,
   "id": "8c6ed6f1-4fbc-41fa-ad29-f0673f292b87",
   "metadata": {},
   "outputs": [
    {
     "name": "stdout",
     "output_type": "stream",
     "text": [
      "(3.0, 15)\n"
     ]
    }
   ],
   "source": [
    "print(s)"
   ]
  },
  {
   "cell_type": "code",
   "execution_count": null,
   "id": "6b3a8c18-7d46-4e7e-bace-81255d0d9db4",
   "metadata": {},
   "outputs": [],
   "source": []
  }
 ],
 "metadata": {
  "kernelspec": {
   "display_name": "Python 3 (ipykernel)",
   "language": "python",
   "name": "python3"
  },
  "language_info": {
   "codemirror_mode": {
    "name": "ipython",
    "version": 3
   },
   "file_extension": ".py",
   "mimetype": "text/x-python",
   "name": "python",
   "nbconvert_exporter": "python",
   "pygments_lexer": "ipython3",
   "version": "3.12.4"
  }
 },
 "nbformat": 4,
 "nbformat_minor": 5
}

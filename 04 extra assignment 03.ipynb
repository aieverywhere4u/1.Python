{
 "cells": [
  {
   "cell_type": "code",
   "execution_count": 2,
   "id": "f6797006-627c-4597-8895-a0c9667250ad",
   "metadata": {},
   "outputs": [
    {
     "name": "stdin",
     "output_type": "stream",
     "text": [
      "enter the number:  15\n"
     ]
    },
    {
     "name": "stdout",
     "output_type": "stream",
     "text": [
      "the number is divisible by 5 & 3\n"
     ]
    }
   ],
   "source": [
    "a=int(input(\"enter the number: \"))\n",
    "if(a%5==0 and a%3==0):\n",
    "    print(\"the number is divisible by 5 & 3\")\n",
    "else:\n",
    "    print(\"the number is not divisible by 5 & 3\")"
   ]
  },
  {
   "cell_type": "code",
   "execution_count": null,
   "id": "177c1129-0f97-4552-91c0-19647b92547f",
   "metadata": {},
   "outputs": [],
   "source": []
  }
 ],
 "metadata": {
  "kernelspec": {
   "display_name": "Python 3 (ipykernel)",
   "language": "python",
   "name": "python3"
  },
  "language_info": {
   "codemirror_mode": {
    "name": "ipython",
    "version": 3
   },
   "file_extension": ".py",
   "mimetype": "text/x-python",
   "name": "python",
   "nbconvert_exporter": "python",
   "pygments_lexer": "ipython3",
   "version": "3.12.4"
  }
 },
 "nbformat": 4,
 "nbformat_minor": 5
}

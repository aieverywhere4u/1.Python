{
 "cells": [
  {
   "cell_type": "code",
   "execution_count": 1,
   "id": "8f6e1d28-92fc-4c66-bc49-e7df1cb5b447",
   "metadata": {},
   "outputs": [],
   "source": [
    "class subfield():\n",
    "    def subfields():\n",
    "        print(\"sub fields in AI are: \")\n",
    "        print(\"machine learning\")\n",
    "        print(\"neural networks\")\n",
    "        print(\"vision\")\n",
    "        print(\"robotics\")\n",
    "        print(\"speech processing\")"
   ]
  },
  {
   "cell_type": "code",
   "execution_count": 12,
   "id": "947879a9-4aaf-4d05-a788-70087b11c577",
   "metadata": {},
   "outputs": [
    {
     "name": "stdout",
     "output_type": "stream",
     "text": [
      "sub fields in AI are: \n",
      "machine learning\n",
      "neural networks\n",
      "vision\n",
      "robotics\n",
      "speech processing\n"
     ]
    }
   ],
   "source": [
    "#classname.functionname()\n",
    "subfield.subfields()"
   ]
  },
  {
   "cell_type": "code",
   "execution_count": 4,
   "id": "38f66511-9caf-4dec-b65b-b4d3b23c2023",
   "metadata": {},
   "outputs": [],
   "source": [
    "class oddseven():\n",
    "    def oddeven():\n",
    "        a=int(input(\"enter the number\"))\n",
    "        if(a%2==0):\n",
    "            print(\"the number is even\")\n",
    "            message=(\"the number is even\")\n",
    "        else:\n",
    "            print(\"the number is odd\")\n",
    "            message=(\"the number is odd\")\n",
    "        return message"
   ]
  },
  {
   "cell_type": "code",
   "execution_count": 5,
   "id": "f3cd9c79-6772-4cbb-8e3b-32e3e7107f8f",
   "metadata": {},
   "outputs": [
    {
     "name": "stdin",
     "output_type": "stream",
     "text": [
      "enter the number 45\n"
     ]
    },
    {
     "name": "stdout",
     "output_type": "stream",
     "text": [
      "the number is odd\n"
     ]
    },
    {
     "data": {
      "text/plain": [
       "'the number is odd'"
      ]
     },
     "execution_count": 5,
     "metadata": {},
     "output_type": "execute_result"
    }
   ],
   "source": [
    "oddseven.oddeven()"
   ]
  },
  {
   "cell_type": "code",
   "execution_count": 6,
   "id": "7b84cf53-b35e-46c9-977e-51e00309b063",
   "metadata": {},
   "outputs": [],
   "source": [
    "class eligibility():\n",
    "    def eligible():\n",
    "        gender=input(\"enter the gender:\")\n",
    "        age=int(input(\"enter the age:\"))\n",
    "        if(gender==\"male\" and age>20):\n",
    "            print(\"you are eligible for marriage\")\n",
    "            message=\"you are eligible for marriage\"\n",
    "        elif(gender==\"female\" and age>17):\n",
    "            print(\"you are eligible for marriage\")\n",
    "            message=\"you are eligible for marriage\"\n",
    "        else:\n",
    "            print(\"you are ineligible for marriage\")\n",
    "            message=\"you are ineligible for marriage\"\n",
    "        return message"
   ]
  },
  {
   "cell_type": "code",
   "execution_count": 7,
   "id": "ddab0e6a-2204-4e4c-a5f0-e6cefc203a03",
   "metadata": {},
   "outputs": [
    {
     "name": "stdin",
     "output_type": "stream",
     "text": [
      "enter the gender: female\n",
      "enter the age: 16\n"
     ]
    },
    {
     "name": "stdout",
     "output_type": "stream",
     "text": [
      "you are ineligible for marriage\n"
     ]
    },
    {
     "data": {
      "text/plain": [
       "'you are ineligible for marriage'"
      ]
     },
     "execution_count": 7,
     "metadata": {},
     "output_type": "execute_result"
    }
   ],
   "source": [
    "eligibility.eligible()\n"
   ]
  },
  {
   "cell_type": "code",
   "execution_count": 8,
   "id": "3147d78c-3536-4046-977b-8a16b8ccf8e8",
   "metadata": {},
   "outputs": [],
   "source": [
    "class percentile():\n",
    "    def percentage():\n",
    "        a=int(input(\"sub 1:\"))\n",
    "        b=int(input(\"sub 2:\"))\n",
    "        c=int(input(\"sub 3:\"))\n",
    "        d=int(input(\"sub 4:\"))\n",
    "        e=int(input(\"sub 5:\"))\n",
    "        add=a+b+c+d+e\n",
    "        percent=(100*add)/500\n",
    "        print(\"total\",add)\n",
    "        message=add\n",
    "        print(\"percent\",percent,end=\"%\")\n",
    "        message01=percent\n",
    "        return message,message01"
   ]
  },
  {
   "cell_type": "code",
   "execution_count": 9,
   "id": "306b0520-69fa-4d1f-b566-b8a02e3c89ce",
   "metadata": {},
   "outputs": [
    {
     "name": "stdin",
     "output_type": "stream",
     "text": [
      "sub 1: 67\n",
      "sub 2: 78\n",
      "sub 3: 99\n",
      "sub 4: 89\n",
      "sub 5: 79\n"
     ]
    },
    {
     "name": "stdout",
     "output_type": "stream",
     "text": [
      "total 412\n",
      "percent 82.4%"
     ]
    },
    {
     "data": {
      "text/plain": [
       "(412, 82.4)"
      ]
     },
     "execution_count": 9,
     "metadata": {},
     "output_type": "execute_result"
    }
   ],
   "source": [
    "percentile.percentage()"
   ]
  },
  {
   "cell_type": "code",
   "execution_count": 10,
   "id": "0b8083ac-e37b-445a-9596-e083c6e459b7",
   "metadata": {},
   "outputs": [],
   "source": [
    "class tri():\n",
    "    def triangle():\n",
    "        h=int(input(\"Height=\"))\n",
    "        b=int(input(\"Breadth=\"))\n",
    "        h1=int(input(\"Height 01=\"))\n",
    "        h2=int(input(\"Height 02=\"))\n",
    "        b1=int(input(\"Breadth 01=\"))\n",
    "        area=(h*b)/2\n",
    "        message=area\n",
    "        peri=h1+h2+b1\n",
    "        message01=peri\n",
    "        print(\"Area of the triangle: \",area)\n",
    "        print(\"Perimeter of the triangle: \",peri)\n",
    "        return message, message01"
   ]
  },
  {
   "cell_type": "code",
   "execution_count": 11,
   "id": "eeb40ec1-b125-4182-aac4-5b47aa7dcaba",
   "metadata": {},
   "outputs": [
    {
     "name": "stdin",
     "output_type": "stream",
     "text": [
      "Height= 4\n",
      "Breadth= 5\n",
      "Height 01= 3\n",
      "Height 02= 6\n",
      "Breadth 01= 7\n"
     ]
    },
    {
     "name": "stdout",
     "output_type": "stream",
     "text": [
      "Area of the triangle:  10.0\n",
      "Perimeter of the triangle:  16\n"
     ]
    },
    {
     "data": {
      "text/plain": [
       "(10.0, 16)"
      ]
     },
     "execution_count": 11,
     "metadata": {},
     "output_type": "execute_result"
    }
   ],
   "source": [
    "tri.triangle()"
   ]
  },
  {
   "cell_type": "code",
   "execution_count": null,
   "id": "2acc7a2b-e9b5-4407-b365-8a1094048993",
   "metadata": {},
   "outputs": [],
   "source": []
  }
 ],
 "metadata": {
  "kernelspec": {
   "display_name": "Python 3 (ipykernel)",
   "language": "python",
   "name": "python3"
  },
  "language_info": {
   "codemirror_mode": {
    "name": "ipython",
    "version": 3
   },
   "file_extension": ".py",
   "mimetype": "text/x-python",
   "name": "python",
   "nbconvert_exporter": "python",
   "pygments_lexer": "ipython3",
   "version": "3.12.4"
  }
 },
 "nbformat": 4,
 "nbformat_minor": 5
}
